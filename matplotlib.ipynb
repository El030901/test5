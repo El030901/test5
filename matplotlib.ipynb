{
 "cells": [
  {
   "cell_type": "code",
   "execution_count": 16,
   "metadata": {},
   "outputs": [
    {
     "data": {
      "text/html": [
       "<div>\n",
       "<style scoped>\n",
       "    .dataframe tbody tr th:only-of-type {\n",
       "        vertical-align: middle;\n",
       "    }\n",
       "\n",
       "    .dataframe tbody tr th {\n",
       "        vertical-align: top;\n",
       "    }\n",
       "\n",
       "    .dataframe thead th {\n",
       "        text-align: right;\n",
       "    }\n",
       "</style>\n",
       "<table border=\"1\" class=\"dataframe\">\n",
       "  <thead>\n",
       "    <tr style=\"text-align: right;\">\n",
       "      <th></th>\n",
       "      <th>day</th>\n",
       "      <th>concentration</th>\n",
       "    </tr>\n",
       "  </thead>\n",
       "  <tbody>\n",
       "    <tr>\n",
       "      <th>0</th>\n",
       "      <td>treatment day 15</td>\n",
       "      <td>80</td>\n",
       "    </tr>\n",
       "    <tr>\n",
       "      <th>1</th>\n",
       "      <td>treatment day 15</td>\n",
       "      <td>55</td>\n",
       "    </tr>\n",
       "    <tr>\n",
       "      <th>2</th>\n",
       "      <td>treatment day 15</td>\n",
       "      <td>52</td>\n",
       "    </tr>\n",
       "    <tr>\n",
       "      <th>3</th>\n",
       "      <td>treatment day 15</td>\n",
       "      <td>51</td>\n",
       "    </tr>\n",
       "    <tr>\n",
       "      <th>4</th>\n",
       "      <td>treatment day 15</td>\n",
       "      <td>52</td>\n",
       "    </tr>\n",
       "    <tr>\n",
       "      <th>5</th>\n",
       "      <td>treatment day 15</td>\n",
       "      <td>45</td>\n",
       "    </tr>\n",
       "    <tr>\n",
       "      <th>6</th>\n",
       "      <td>treatment day 30</td>\n",
       "      <td>280</td>\n",
       "    </tr>\n",
       "    <tr>\n",
       "      <th>7</th>\n",
       "      <td>treatment day 30</td>\n",
       "      <td>253</td>\n",
       "    </tr>\n",
       "    <tr>\n",
       "      <th>8</th>\n",
       "      <td>treatment day 30</td>\n",
       "      <td>250</td>\n",
       "    </tr>\n",
       "    <tr>\n",
       "      <th>9</th>\n",
       "      <td>treatment day 30</td>\n",
       "      <td>245</td>\n",
       "    </tr>\n",
       "    <tr>\n",
       "      <th>10</th>\n",
       "      <td>treatment day 30</td>\n",
       "      <td>180</td>\n",
       "    </tr>\n",
       "    <tr>\n",
       "      <th>11</th>\n",
       "      <td>treatment day 30</td>\n",
       "      <td>155</td>\n",
       "    </tr>\n",
       "    <tr>\n",
       "      <th>12</th>\n",
       "      <td>5-day washout</td>\n",
       "      <td>5</td>\n",
       "    </tr>\n",
       "    <tr>\n",
       "      <th>13</th>\n",
       "      <td>5-day washout</td>\n",
       "      <td>4</td>\n",
       "    </tr>\n",
       "    <tr>\n",
       "      <th>14</th>\n",
       "      <td>5-day washout</td>\n",
       "      <td>3</td>\n",
       "    </tr>\n",
       "    <tr>\n",
       "      <th>15</th>\n",
       "      <td>5-day washout</td>\n",
       "      <td>1</td>\n",
       "    </tr>\n",
       "    <tr>\n",
       "      <th>16</th>\n",
       "      <td>5-day washout</td>\n",
       "      <td>7</td>\n",
       "    </tr>\n",
       "    <tr>\n",
       "      <th>17</th>\n",
       "      <td>5-day washout</td>\n",
       "      <td>3</td>\n",
       "    </tr>\n",
       "    <tr>\n",
       "      <th>18</th>\n",
       "      <td>5-day washout</td>\n",
       "      <td>4</td>\n",
       "    </tr>\n",
       "    <tr>\n",
       "      <th>19</th>\n",
       "      <td>5-day washout</td>\n",
       "      <td>5</td>\n",
       "    </tr>\n",
       "  </tbody>\n",
       "</table>\n",
       "</div>"
      ],
      "text/plain": [
       "                 day  concentration\n",
       "0   treatment day 15             80\n",
       "1   treatment day 15             55\n",
       "2   treatment day 15             52\n",
       "3   treatment day 15             51\n",
       "4   treatment day 15             52\n",
       "5   treatment day 15             45\n",
       "6   treatment day 30            280\n",
       "7   treatment day 30            253\n",
       "8   treatment day 30            250\n",
       "9   treatment day 30            245\n",
       "10  treatment day 30            180\n",
       "11  treatment day 30            155\n",
       "12     5-day washout              5\n",
       "13     5-day washout              4\n",
       "14     5-day washout              3\n",
       "15     5-day washout              1\n",
       "16     5-day washout              7\n",
       "17     5-day washout              3\n",
       "18     5-day washout              4\n",
       "19     5-day washout              5"
      ]
     },
     "execution_count": 16,
     "metadata": {},
     "output_type": "execute_result"
    }
   ],
   "source": [
    "import pandas as pd\n",
    "\n",
    "d = {'day': ['treatment day 15']*6+['treatment day 30']*6+['5-day washout']*8\n",
    "     , 'concentration': [80, 55, 52, 51, 52, 45, 280, 253, 250, 245, 180, 155, 5, 4, 3, 1, 7, 3, 4, 5]}\n",
    "df = pd.DataFrame(data=d)\n",
    "df"
   ]
  },
  {
   "cell_type": "code",
   "execution_count": 25,
   "metadata": {},
   "outputs": [
    {
     "data": {
      "text/plain": [
       "[Text(0, 0.5, 'THC brain concentration')]"
      ]
     },
     "execution_count": 25,
     "metadata": {},
     "output_type": "execute_result"
    },
    {
     "data": {
      "image/png": "[encoded data removed]",
      "text/plain": [
       "<Figure size 432x288 with 1 Axes>"
      ]
     },
     "metadata": {
      "needs_background": "light"
     },
     "output_type": "display_data"
    }
   ],
   "source": [
    "import seaborn as sns\n",
    "\n",
    "ax = sns.boxplot(x=\"day\", y=\"concentration\", data=df, boxprops=dict(alpha=0.1), color=\"white\")\n",
    "ax = sns.swarmplot(x=\"day\", y=\"concentration\", data=df, color=\".25\")\n",
    "\n",
    "ax.set(ylabel='THC brain concentration')"
   ]
  },
  {
   "cell_type": "code",
   "execution_count": 138,
   "metadata": {},
   "outputs": [
    {
     "data": {
      "text/plain": [
       "(0, 300)"
      ]
     },
     "execution_count": 138,
     "metadata": {},
     "output_type": "execute_result"
    },
    {
     "data": {
      "image/png": "[encoded data removed]",
      "text/plain": [
       "<Figure size 432x288 with 1 Axes>"
      ]
     },
     "metadata": {
      "needs_background": "light"
     },
     "output_type": "display_data"
    }
   ],
   "source": [
    "\n",
    "\n",
    "from matplotlib import pyplot as plt\n",
    "\n",
    "medianprops = dict(linestyle='', linewidth=1.0, color='0.0')\n",
    "meanlineprops = dict(linestyle='-', linewidth=1.0, color='.25')\n",
    "whiskerprops = dict(linestyle='-', linewidth=1.0, color='.0')\n",
    "\n",
    "plt.boxplot([df.concentration[:6],df.concentration[6:12],df.concentration[12:]], positions=[2,4,6], showfliers = False, \n",
    "        showmeans=True, meanline=True, medianprops = medianprops, meanprops = meanlineprops)\n",
    "\n",
    "\n",
    "plt.scatter(np.random.normal(2, 0.1, 6), df.concentration[:6], color='white', edgecolor='.25')\n",
    "plt.scatter(np.random.normal(4, 0.1, 6), df.concentration[6:12], color='white', edgecolor='.25')\n",
    "plt.scatter(np.random.normal(6, 0.1, 8), df.concentration[12:], color='white', edgecolor='.25')\n",
    "#(list(np.random.normal(2, 0.1, 6)), [80, 55, 52, 51, 52, 45], 'b.', color = '.25', alpha=1)\n",
    "plt.xticks([2, 4, 6], ['treatment day 15', 'treatment day 30', '5-day washout'])\n",
    "plt.ylabel('THC brain concentration \\n (ng\\'g)')\n",
    "plt.xlim((1, 7)) \n",
    "plt.ylim((0, 300)) "
   ]
  },
  {
   "cell_type": "code",
   "execution_count": 61,
   "metadata": {},
   "outputs": [
    {
     "data": {
      "text/plain": [
       "[1.3061315301749599,\n",
       " 2.077610388795764,\n",
       " 2.036836240321519,\n",
       " 2.514574021911138,\n",
       " 1.669809222674384,\n",
       " 1.6905646917682846]"
      ]
     },
     "execution_count": 61,
     "metadata": {},
     "output_type": "execute_result"
    }
   ],
   "source": [
    "list(np.random.normal(2, 0.5, 6))"
   ]
  },
  {
   "cell_type": "code",
   "execution_count": 44,
   "metadata": {},
   "outputs": [],
   "source": [
    "import matplotlib.pyplot as plt\n",
    "\n",
    "# Fixing random state for reproducibility\n",
    "np.random.seed(19680801)\n",
    "\n",
    "# fake up some data\n",
    "spread = np.random.rand(50) * 100\n",
    "center = np.ones(25) * 50\n",
    "flier_high = np.random.rand(10) * 100 + 100\n",
    "flier_low = np.random.rand(10) * -100\n",
    "data = np.concatenate((spread, center, flier_high, flier_low))\n",
    "spread = np.random.rand(50) * 100\n",
    "center = np.ones(25) * 40\n",
    "flier_high = np.random.rand(10) * 100 + 100\n",
    "flier_low = np.random.rand(10) * -100\n",
    "d2 = np.concatenate((spread, center, flier_high, flier_low))\n",
    "data.shape = (-1, 1)\n",
    "d2.shape = (-1, 1)"
   ]
  },
  {
   "cell_type": "code",
   "execution_count": 45,
   "metadata": {},
   "outputs": [
    {
     "data": {
      "text/plain": [
       "array([[ 70.03673039],\n",
       "       [ 74.27508094],\n",
       "       [ 70.92800107],\n",
       "       [ 56.67455225],\n",
       "       [ 97.77853328],\n",
       "       [ 70.6334846 ],\n",
       "       [ 24.79157587],\n",
       "       [ 15.78833509],\n",
       "       [ 69.76985214],\n",
       "       [ 71.99566667],\n",
       "       [ 25.77444303],\n",
       "       [ 34.15467831],\n",
       "       [ 96.87611677],\n",
       "       [ 69.45070978],\n",
       "       [ 46.63832593],\n",
       "       [ 70.28126954],\n",
       "       [ 51.1785874 ],\n",
       "       [ 92.874137  ],\n",
       "       [ 73.97692989],\n",
       "       [ 62.24390337],\n",
       "       [ 65.15454689],\n",
       "       [ 39.68076115],\n",
       "       [ 54.32393949],\n",
       "       [ 79.98995282],\n",
       "       [ 72.15447266],\n",
       "       [ 29.53639811],\n",
       "       [ 16.09458806],\n",
       "       [ 20.61255148],\n",
       "       [ 13.43253868],\n",
       "       [ 48.06050174],\n",
       "       [ 34.25218134],\n",
       "       [ 36.29692901],\n",
       "       [ 97.29176387],\n",
       "       [ 11.09436116],\n",
       "       [ 38.82640891],\n",
       "       [ 78.30658753],\n",
       "       [ 97.28972601],\n",
       "       [ 48.32096053],\n",
       "       [ 33.64211054],\n",
       "       [ 56.74190362],\n",
       "       [  4.79415097],\n",
       "       [ 38.8937029 ],\n",
       "       [ 90.63036451],\n",
       "       [ 16.10182093],\n",
       "       [ 74.36211347],\n",
       "       [ 63.29741618],\n",
       "       [ 32.41800177],\n",
       "       [ 92.23765324],\n",
       "       [ 23.72264387],\n",
       "       [ 82.39455709],\n",
       "       [ 50.        ],\n",
       "       [ 50.        ],\n",
       "       [ 50.        ],\n",
       "       [ 50.        ],\n",
       "       [ 50.        ],\n",
       "       [ 50.        ],\n",
       "       [ 50.        ],\n",
       "       [ 50.        ],\n",
       "       [ 50.        ],\n",
       "       [ 50.        ],\n",
       "       [ 50.        ],\n",
       "       [ 50.        ],\n",
       "       [ 50.        ],\n",
       "       [ 50.        ],\n",
       "       [ 50.        ],\n",
       "       [ 50.        ],\n",
       "       [ 50.        ],\n",
       "       [ 50.        ],\n",
       "       [ 50.        ],\n",
       "       [ 50.        ],\n",
       "       [ 50.        ],\n",
       "       [ 50.        ],\n",
       "       [ 50.        ],\n",
       "       [ 50.        ],\n",
       "       [ 50.        ],\n",
       "       [175.06071403],\n",
       "       [111.37844527],\n",
       "       [184.53612452],\n",
       "       [192.3932129 ],\n",
       "       [122.08367918],\n",
       "       [193.3053876 ],\n",
       "       [148.89987436],\n",
       "       [147.47186402],\n",
       "       [108.91674722],\n",
       "       [122.9948178 ],\n",
       "       [-71.59374101],\n",
       "       [-49.6126162 ],\n",
       "       [-76.64893785],\n",
       "       [-89.67973224],\n",
       "       [-77.22230183],\n",
       "       [-92.71742883],\n",
       "       [-61.46520272],\n",
       "       [-60.90637692],\n",
       "       [-68.46848657],\n",
       "       [-25.10129674]])"
      ]
     },
     "execution_count": 45,
     "metadata": {},
     "output_type": "execute_result"
    }
   ],
   "source": [
    "data"
   ]
  },
  {
   "cell_type": "code",
   "execution_count": 46,
   "metadata": {},
   "outputs": [
    {
     "data": {
      "text/plain": [
       "array([[ 83.78376368],\n",
       "       [ 11.8615617 ],\n",
       "       [ 79.72347418],\n",
       "       [ 94.90042675],\n",
       "       [ 14.80628764],\n",
       "       [ 90.68719849],\n",
       "       [ 78.83733255],\n",
       "       [ 76.84058413],\n",
       "       [ 59.8496483 ],\n",
       "       [ 44.21456175],\n",
       "       [ 72.30380198],\n",
       "       [ 41.66182494],\n",
       "       [ 22.68103954],\n",
       "       [ 45.42273409],\n",
       "       [ 84.79437532],\n",
       "       [ 93.6655949 ],\n",
       "       [ 95.60361846],\n",
       "       [ 39.20943157],\n",
       "       [ 70.8324671 ],\n",
       "       [ 12.95158346],\n",
       "       [ 35.37963854],\n",
       "       [ 40.42715193],\n",
       "       [ 64.85338993],\n",
       "       [  3.30709704],\n",
       "       [ 53.80093632],\n",
       "       [ 13.17131185],\n",
       "       [ 52.09349339],\n",
       "       [ 10.24847852],\n",
       "       [ 15.79803754],\n",
       "       [ 92.0029646 ],\n",
       "       [ 78.42297751],\n",
       "       [ 39.70475376],\n",
       "       [ 15.46468315],\n",
       "       [ 72.11932479],\n",
       "       [ 83.68309041],\n",
       "       [ 93.78552019],\n",
       "       [ 57.67138189],\n",
       "       [ 19.50265601],\n",
       "       [ 11.77939697],\n",
       "       [ 95.06002043],\n",
       "       [ 28.36723023],\n",
       "       [ 95.65624228],\n",
       "       [ 90.94254614],\n",
       "       [ 32.84251875],\n",
       "       [ 95.17655686],\n",
       "       [ 11.63214758],\n",
       "       [ 87.43141503],\n",
       "       [ 98.52254676],\n",
       "       [ 75.03353804],\n",
       "       [ 98.51564662],\n",
       "       [ 40.        ],\n",
       "       [ 40.        ],\n",
       "       [ 40.        ],\n",
       "       [ 40.        ],\n",
       "       [ 40.        ],\n",
       "       [ 40.        ],\n",
       "       [ 40.        ],\n",
       "       [ 40.        ],\n",
       "       [ 40.        ],\n",
       "       [ 40.        ],\n",
       "       [ 40.        ],\n",
       "       [ 40.        ],\n",
       "       [ 40.        ],\n",
       "       [ 40.        ],\n",
       "       [ 40.        ],\n",
       "       [ 40.        ],\n",
       "       [ 40.        ],\n",
       "       [ 40.        ],\n",
       "       [ 40.        ],\n",
       "       [ 40.        ],\n",
       "       [ 40.        ],\n",
       "       [ 40.        ],\n",
       "       [ 40.        ],\n",
       "       [ 40.        ],\n",
       "       [ 40.        ],\n",
       "       [199.0180235 ],\n",
       "       [106.09770913],\n",
       "       [100.37359805],\n",
       "       [181.25032132],\n",
       "       [158.27367203],\n",
       "       [115.02459814],\n",
       "       [115.21735565],\n",
       "       [152.7059502 ],\n",
       "       [147.94051987],\n",
       "       [109.21899366],\n",
       "       [-51.19574322],\n",
       "       [ -4.28311062],\n",
       "       [-80.62961538],\n",
       "       [-24.21986649],\n",
       "       [-84.8211097 ],\n",
       "       [-69.55898582],\n",
       "       [-36.13268647],\n",
       "       [-50.57014395],\n",
       "       [-29.41724224],\n",
       "       [-66.00845699]])"
      ]
     },
     "execution_count": 46,
     "metadata": {},
     "output_type": "execute_result"
    }
   ],
   "source": [
    "d2"
   ]
  },
  {
   "cell_type": "code",
   "execution_count": 47,
   "metadata": {},
   "outputs": [
    {
     "data": {
      "text/plain": [
       "array([ 83.78376368,  79.72347418,  14.80628764,  78.83733255,\n",
       "        59.8496483 ,  72.30380198,  22.68103954,  84.79437532,\n",
       "        95.60361846,  70.8324671 ,  35.37963854,  64.85338993,\n",
       "        53.80093632,  52.09349339,  15.79803754,  78.42297751,\n",
       "        15.46468315,  83.68309041,  57.67138189,  11.77939697,\n",
       "        28.36723023,  90.94254614,  95.17655686,  87.43141503,\n",
       "        75.03353804,  40.        ,  40.        ,  40.        ,\n",
       "        40.        ,  40.        ,  40.        ,  40.        ,\n",
       "        40.        ,  40.        ,  40.        ,  40.        ,\n",
       "        40.        ,  40.        , 106.09770913, 181.25032132,\n",
       "       115.02459814, 152.7059502 , 109.21899366,  -4.28311062,\n",
       "       -24.21986649, -69.55898582, -50.57014395, -66.00845699])"
      ]
     },
     "execution_count": 47,
     "metadata": {},
     "output_type": "execute_result"
    }
   ],
   "source": [
    "d2[::2, 0]"
   ]
  },
  {
   "cell_type": "code",
   "execution_count": 39,
   "metadata": {},
   "outputs": [
    {
     "data": {
      "image/png": "[encoded data removed]",
      "text/plain": [
       "<Figure size 432x288 with 1 Axes>"
      ]
     },
     "metadata": {
      "needs_background": "light"
     },
     "output_type": "display_data"
    }
   ],
   "source": [
    "data = [data, d2, d2[::2, 0]]\n",
    "fig7, ax7 = plt.subplots()\n",
    "ax7.set_title('Multiple Samples with Different sizes')\n",
    "ax7.boxplot(data)\n",
    "\n",
    "plt.show()"
   ]
  },
  {
   "cell_type": "code",
   "execution_count": null,
   "metadata": {},
   "outputs": [],
   "source": []
  }
 ],
 "metadata": {
  "kernelspec": {
   "display_name": "Python 3",
   "language": "python",
   "name": "python3"
  },
  "language_info": {
   "codemirror_mode": {
    "name": "ipython",
    "version": 3
   },
   "file_extension": ".py",
   "mimetype": "text/x-python",
   "name": "python",
   "nbconvert_exporter": "python",
   "pygments_lexer": "ipython3",
   "version": "3.7.3"
  }
 },
 "nbformat": 4,
 "nbformat_minor": 2
}
